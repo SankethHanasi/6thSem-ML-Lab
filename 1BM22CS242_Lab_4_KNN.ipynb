{
  "nbformat": 4,
  "nbformat_minor": 0,
  "metadata": {
    "colab": {
      "provenance": [],
      "authorship_tag": "ABX9TyOtYWPgFtvHF6DXio4Lkss9",
      "include_colab_link": true
    },
    "kernelspec": {
      "name": "python3",
      "display_name": "Python 3"
    },
    "language_info": {
      "name": "python"
    }
  },
  "cells": [
    {
      "cell_type": "markdown",
      "metadata": {
        "id": "view-in-github",
        "colab_type": "text"
      },
      "source": [
        "<a href=\"https://colab.research.google.com/github/SankethHanasi/6thSem-ML-Lab/blob/main/1BM22CS242_Lab_4_KNN.ipynb\" target=\"_parent\"><img src=\"https://colab.research.google.com/assets/colab-badge.svg\" alt=\"Open In Colab\"/></a>"
      ]
    },
    {
      "cell_type": "code",
      "execution_count": null,
      "metadata": {
        "colab": {
          "base_uri": "https://localhost:8080/"
        },
        "id": "9qxTFLfFLp6N",
        "outputId": "7efcf949-34d9-4fce-8cc9-3ab37ba9d0cd"
      },
      "outputs": [
        {
          "output_type": "stream",
          "name": "stdout",
          "text": [
            "Optimal k value for Iris dataset: 1\n",
            "Iris Dataset Accuracy: 1.0\n",
            "Confusion Matrix for Iris:\n",
            "[[10  0  0]\n",
            " [ 0  9  0]\n",
            " [ 0  0 11]]\n",
            "Classification Report for Iris:\n",
            "                 precision    recall  f1-score   support\n",
            "\n",
            "    Iris-setosa       1.00      1.00      1.00        10\n",
            "Iris-versicolor       1.00      1.00      1.00         9\n",
            " Iris-virginica       1.00      1.00      1.00        11\n",
            "\n",
            "       accuracy                           1.00        30\n",
            "      macro avg       1.00      1.00      1.00        30\n",
            "   weighted avg       1.00      1.00      1.00        30\n",
            "\n"
          ]
        }
      ],
      "source": [
        "import numpy as np\n",
        "import pandas as pd\n",
        "import matplotlib.pyplot as plt\n",
        "from sklearn.model_selection import train_test_split\n",
        "from sklearn.preprocessing import StandardScaler\n",
        "from sklearn.neighbors import KNeighborsClassifier\n",
        "from sklearn.metrics import accuracy_score, confusion_matrix, classification_report\n",
        "\n",
        "# Load the Iris dataset\n",
        "iris = pd.read_csv(\"/content/iris.csv\")\n",
        "X_iris = iris.drop(columns=['species'])\n",
        "y_iris = iris['species']\n",
        "\n",
        "# Split the dataset into training and testing sets\n",
        "X_train_iris, X_test_iris, y_train_iris, y_test_iris = train_test_split(X_iris, y_iris, test_size=0.2, random_state=42)\n",
        "\n",
        "# Choose the best k value (testing k from 1 to 20)\n",
        "k_values = range(1, 21)\n",
        "accuracy_list = []\n",
        "\n",
        "for k in k_values:\n",
        "    knn = KNeighborsClassifier(n_neighbors=k)\n",
        "    knn.fit(X_train_iris, y_train_iris)\n",
        "    y_pred = knn.predict(X_test_iris)\n",
        "    accuracy_list.append(accuracy_score(y_test_iris, y_pred))\n",
        "\n",
        "best_k_iris = k_values[np.argmax(accuracy_list)]\n",
        "print(f\"Optimal k value for Iris dataset: {best_k_iris}\")\n",
        "\n",
        "# Train KNN with the best k value\n",
        "knn_iris = KNeighborsClassifier(n_neighbors=best_k_iris)\n",
        "knn_iris.fit(X_train_iris, y_train_iris)\n",
        "y_pred_iris = knn_iris.predict(X_test_iris)\n",
        "\n",
        "# Display Accuracy and Confusion Matrix for Iris dataset\n",
        "print(\"Iris Dataset Accuracy:\", accuracy_score(y_test_iris, y_pred_iris))\n",
        "print(\"Confusion Matrix for Iris:\")\n",
        "print(confusion_matrix(y_test_iris, y_pred_iris))\n",
        "print(\"Classification Report for Iris:\")\n",
        "print(classification_report(y_test_iris, y_pred_iris))"
      ]
    },
    {
      "cell_type": "code",
      "source": [
        "# Load the Diabetes dataset\n",
        "diabetes = pd.read_csv(\"/content/diabetes.csv\")\n",
        "X_diabetes = diabetes.drop(columns=['Outcome'])\n",
        "y_diabetes = diabetes['Outcome']\n",
        "\n",
        "# Split into training and testing\n",
        "X_train_diabetes, X_test_diabetes, y_train_diabetes, y_test_diabetes = train_test_split(X_diabetes, y_diabetes, test_size=0.2, random_state=42)\n",
        "\n",
        "# Feature Scaling\n",
        "scaler = StandardScaler()\n",
        "X_train_diabetes = scaler.fit_transform(X_train_diabetes)\n",
        "X_test_diabetes = scaler.transform(X_test_diabetes)\n",
        "\n",
        "# Train KNN Classifier for Diabetes dataset\n",
        "best_k_diabetes = 7  # Assume 7 as a reasonable k value (can be tuned further)\n",
        "knn_diabetes = KNeighborsClassifier(n_neighbors=best_k_diabetes)\n",
        "knn_diabetes.fit(X_train_diabetes, y_train_diabetes)\n",
        "y_pred_diabetes = knn_diabetes.predict(X_test_diabetes)\n",
        "\n",
        "# Display Accuracy and Confusion Matrix for Diabetes dataset\n",
        "print(\"Diabetes Dataset Accuracy:\", accuracy_score(y_test_diabetes, y_pred_diabetes))\n",
        "print(\"Confusion Matrix for Diabetes:\")\n",
        "print(confusion_matrix(y_test_diabetes, y_pred_diabetes))\n",
        "print(\"Classification Report for Diabetes:\")\n",
        "print(classification_report(y_test_diabetes, y_pred_diabetes))"
      ],
      "metadata": {
        "colab": {
          "base_uri": "https://localhost:8080/"
        },
        "id": "dc0KSLQ6M9ed",
        "outputId": "9a51f563-d380-4661-c6b8-ebb9278b3fa0"
      },
      "execution_count": null,
      "outputs": [
        {
          "output_type": "stream",
          "name": "stdout",
          "text": [
            "Diabetes Dataset Accuracy: 0.6818181818181818\n",
            "Confusion Matrix for Diabetes:\n",
            "[[78 21]\n",
            " [28 27]]\n",
            "Classification Report for Diabetes:\n",
            "              precision    recall  f1-score   support\n",
            "\n",
            "           0       0.74      0.79      0.76        99\n",
            "           1       0.56      0.49      0.52        55\n",
            "\n",
            "    accuracy                           0.68       154\n",
            "   macro avg       0.65      0.64      0.64       154\n",
            "weighted avg       0.67      0.68      0.68       154\n",
            "\n"
          ]
        }
      ]
    },
    {
      "cell_type": "code",
      "source": [
        "import numpy as np\n",
        "import pandas as pd\n",
        "import matplotlib.pyplot as plt\n",
        "import seaborn as sns\n",
        "from sklearn.model_selection import train_test_split\n",
        "from sklearn.preprocessing import StandardScaler\n",
        "from sklearn.neighbors import KNeighborsClassifier\n",
        "from sklearn.metrics import accuracy_score, confusion_matrix, classification_report, ConfusionMatrixDisplay\n",
        "\n",
        "# Load the Heart dataset\n",
        "heart = pd.read_csv(\"/content/heart.csv\")\n",
        "X_heart = heart.drop(columns=['target'])\n",
        "y_heart = heart['target']\n",
        "\n",
        "# Split the dataset into training and testing sets\n",
        "X_train_heart, X_test_heart, y_train_heart, y_test_heart = train_test_split(X_heart, y_heart, test_size=0.2, random_state=42)\n",
        "\n",
        "# Feature Scaling\n",
        "scaler = StandardScaler()\n",
        "X_train_heart = scaler.fit_transform(X_train_heart)\n",
        "X_test_heart = scaler.transform(X_test_heart)\n",
        "\n",
        "# Choose the best k value (testing k from 1 to 20)\n",
        "k_values = range(1, 21)\n",
        "accuracy_list = []\n",
        "\n",
        "for k in k_values:\n",
        "    knn = KNeighborsClassifier(n_neighbors=k)\n",
        "    knn.fit(X_train_heart, y_train_heart)\n",
        "    y_pred = knn.predict(X_test_heart)\n",
        "    accuracy_list.append(accuracy_score(y_test_heart, y_pred))\n",
        "\n",
        "best_k_heart = k_values[np.argmax(accuracy_list)]\n",
        "print(f\"Optimal k value for Heart dataset: {best_k_heart}\")\n",
        "\n",
        "# Train KNN with the best k value\n",
        "knn_heart = KNeighborsClassifier(n_neighbors=best_k_heart)\n",
        "knn_heart.fit(X_train_heart, y_train_heart)\n",
        "y_pred_heart = knn_heart.predict(X_test_heart)\n",
        "\n",
        "# Display Accuracy and Confusion Matrix for Heart dataset\n",
        "print(\"Heart Dataset Accuracy:\", accuracy_score(y_test_heart, y_pred_heart))\n",
        "print(\"Confusion Matrix for Heart:\")\n",
        "conf_matrix_heart = confusion_matrix(y_test_heart, y_pred_heart)\n",
        "display = ConfusionMatrixDisplay(confusion_matrix=conf_matrix_heart)\n",
        "display.plot(cmap='Blues')\n",
        "plt.title(\"Confusion Matrix for Heart Dataset\")\n",
        "plt.show()\n",
        "\n",
        "# Classification Report\n",
        "print(\"Classification Report for Heart Dataset:\")\n",
        "print(classification_report(y_test_heart, y_pred_heart))"
      ],
      "metadata": {
        "colab": {
          "base_uri": "https://localhost:8080/",
          "height": 698
        },
        "id": "EJemjXuEL0Oc",
        "outputId": "8d44af6d-6a8d-4849-fbcd-16d32086a1cc"
      },
      "execution_count": null,
      "outputs": [
        {
          "output_type": "stream",
          "name": "stdout",
          "text": [
            "Optimal k value for Heart dataset: 7\n",
            "Heart Dataset Accuracy: 0.9180327868852459\n",
            "Confusion Matrix for Heart:\n"
          ]
        },
        {
          "output_type": "display_data",
          "data": {
            "text/plain": [
              "<Figure size 640x480 with 2 Axes>"
            ],
            "image/png": "[encoded data removed]"
          },
          "metadata": {}
        },
        {
          "output_type": "stream",
          "name": "stdout",
          "text": [
            "Classification Report for Heart Dataset:\n",
            "              precision    recall  f1-score   support\n",
            "\n",
            "           0       0.90      0.93      0.92        29\n",
            "           1       0.94      0.91      0.92        32\n",
            "\n",
            "    accuracy                           0.92        61\n",
            "   macro avg       0.92      0.92      0.92        61\n",
            "weighted avg       0.92      0.92      0.92        61\n",
            "\n"
          ]
        }
      ]
    }
  ]
}